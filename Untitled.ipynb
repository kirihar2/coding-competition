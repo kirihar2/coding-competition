{
 "cells": [
  {
   "cell_type": "code",
   "execution_count": 1,
   "metadata": {},
   "outputs": [],
   "source": [
    "import os\n",
    "\n"
   ]
  },
  {
   "cell_type": "code",
   "execution_count": null,
   "metadata": {},
   "outputs": [],
   "source": [
    "# Find longest common subsequence \n",
    "# 1,2,3,4,5\n",
    "# 3,5,1,2,4\n",
    "# Best conceivable Runtime O(n) have to look at both lists to the end to construct the longest common subsequence \n",
    "# Bruteforce O(n^2)\n",
    "# Do better by reducing repetitive work where if compared with one sequence do not have to look in the other sequ\n",
    "#\n",
    "#"
   ]
  },
  {
   "cell_type": "code",
   "execution_count": null,
   "metadata": {},
   "outputs": [],
   "source": [
    "def towerOfHanoi(n):\n",
    "    # n is size of disk\n",
    "    # there are 3 towers in the game\n",
    "    # return the moves necessary to move the entire tower to the other side\n",
    "    towers = [[n-i for i in range(n)],[],[]] # tower starts with towers[0] is stack with end being the top of stack \n",
    "    moves = []\n",
    "    prev = set()\n",
    "    def canMove(towers,piece,location):\n",
    "        return piece< towers[location[-1]] and n\n",
    "    def recur(towers,moves):\n",
    "        if len(towers[2]) == n: \n",
    "            return True \n",
    "        for move in possibleMoves(towers): \n",
    "            if\n",
    "            "
   ]
  },
  {
   "cell_type": "code",
   "execution_count": 22,
   "metadata": {},
   "outputs": [],
   "source": [
    "def rectangle(arr):\n",
    "    top_left_x = len(arr)\n",
    "    top_left_y = len(arr)\n",
    "    bottom_right_x = 0\n",
    "    bottom_right_y = 0\n",
    "    for i in range(len(arr)):\n",
    "        for j in range(len(arr[i])):\n",
    "            if arr[i][j] == 1 :\n",
    "                top_left_x = min(top_left_x,j)\n",
    "                top_left_y = min(top_left_y,i)\n",
    "                bottom_right_x = max(bottom_right_x,j)\n",
    "                bottom_right_y = max(bottom_right_y,i)\n",
    "    \n",
    "    return [top_left_x,top_left_y, bottom_right_x,bottom_right_y]"
   ]
  },
  {
   "cell_type": "code",
   "execution_count": 29,
   "metadata": {},
   "outputs": [],
   "source": [
    "arr = [[0,0,0],[0,0,0],[0,0,0]]\n",
    "arr1 = [[0,1,0],[0,1,0],[1,0,0]]\n"
   ]
  },
  {
   "cell_type": "code",
   "execution_count": 30,
   "metadata": {},
   "outputs": [
    {
     "name": "stdout",
     "output_type": "stream",
     "text": [
      "[3, 3, 0, 0]\n"
     ]
    }
   ],
   "source": [
    "print(rectangle(arr))"
   ]
  },
  {
   "cell_type": "code",
   "execution_count": 31,
   "metadata": {},
   "outputs": [],
   "source": [
    "## Disjoint pixels find all rectangles created \n"
   ]
  },
  {
   "cell_type": "code",
   "execution_count": 32,
   "metadata": {},
   "outputs": [],
   "source": [
    "def find_all_rectangles(arr):\n",
    "    def bfs(start,top_left,bottom_right):\n",
    "        if start[0] < 0 or start[0] > len(arr[0]) or start[1] < 0 or start[1] > len(arr) or visited[start[1]][start[0]] == True or arr[start[1]][start[0]] == 0:\n",
    "            return top_left,bottom_right\n",
    "        x=start[0]\n",
    "        y=start[1]\n",
    "        top_left = [min(top_left[0],move[0]),min(top_left[1],move[1])]\n",
    "        bottom_right = [min(bottom_right[0],move[0]),min(bottom_right[1],move[1])]\n",
    "        moves = [[x-1,y],[x+1,y],[x,y-1],[x,y+1]]\n",
    "        for move in moves:\n",
    "            top_left,bottom_right = bfs(move,top_left,bottom_right)\n",
    "        return top_left,bottom_right\n",
    "    visited = [[False for i in range(len(arr[0]))] for j in range(len(arr))]\n",
    "    start = [0,0]\n",
    "    ret = []\n",
    "    for i in range(len(arr)):\n",
    "        for j in range(len(arr[i])):\n",
    "            if arr[i][j] == 1 and visited[i][j] == False:\n",
    "                ret.append(bfs([i,j],[len(arr[i]),len(arr)],[0,0]))\n",
    "    return ret"
   ]
  },
  {
   "cell_type": "code",
   "execution_count": 33,
   "metadata": {},
   "outputs": [
    {
     "name": "stdout",
     "output_type": "stream",
     "text": [
      "[]\n"
     ]
    }
   ],
   "source": [
    "print(find_all_rectangles(arr))"
   ]
  },
  {
   "cell_type": "code",
   "execution_count": null,
   "metadata": {},
   "outputs": [],
   "source": []
  }
 ],
 "metadata": {
  "kernelspec": {
   "display_name": "Python 3",
   "language": "python",
   "name": "python3"
  },
  "language_info": {
   "codemirror_mode": {
    "name": "ipython",
    "version": 3
   },
   "file_extension": ".py",
   "mimetype": "text/x-python",
   "name": "python",
   "nbconvert_exporter": "python",
   "pygments_lexer": "ipython3",
   "version": "3.6.5"
  }
 },
 "nbformat": 4,
 "nbformat_minor": 2
}
