{
 "cells": [
  {
   "cell_type": "code",
   "execution_count": 1,
   "metadata": {},
   "outputs": [],
   "source": [
    "from __future__ import print_function\n",
    "import time\n",
    "import intrinio_sdk\n",
    "from intrinio_sdk.rest import ApiException\n",
    "from pprint import pprint\n",
    "\n",
    "intrinio_sdk.ApiClient().configuration.api_key['api_key'] = 'OmEzYjcxODBjN2ZkOGZlNzQ4YTU5NmJiZTZmM2VmNzZl' \n",
    "\n",
    "company_api = intrinio_sdk.CompanyApi()\n"
   ]
  },
  {
   "cell_type": "code",
   "execution_count": 8,
   "metadata": {},
   "outputs": [
    {
     "name": "stdout",
     "output_type": "stream",
     "text": [
      "Exception when calling CompanyApi->get_company_fundamentals: (403)\n",
      "Reason: Forbidden\n",
      "HTTP response headers: HTTPHeaderDict({'Date': 'Tue, 08 Jan 2019 04:58:17 GMT', 'Content-Type': 'application/json', 'Content-Length': '128', 'Connection': 'keep-alive', 'Vary': 'Origin,Accept-Encoding'})\n",
      "HTTP response body: {\"error\":\"API Access Denied\",\"message\":\"You do not have sufficient access to view this data\",\"access_codes\":[\"us_fundamentals\"]}\n",
      "\n",
      "\n"
     ]
    }
   ],
   "source": [
    "identifier = 'AAPL' # str | A Company identifier (Ticker, CIK, LEI, Intrinio ID)\n",
    "next_page = '' # str | Gets the next page of data from a previous API call (optional)\n",
    "\n",
    "try:\n",
    "    api_response = company_api.get_company_fundamentals(identifier, next_page=next_page)\n",
    "    pprint(api_response)\n",
    "except ApiException as e:\n",
    "    print(\"Exception when calling CompanyApi->get_company_fundamentals: %s\\n\" % e)"
   ]
  },
  {
   "cell_type": "code",
   "execution_count": 7,
   "metadata": {},
   "outputs": [
    {
     "name": "stdout",
     "output_type": "stream",
     "text": [
      "{'business_address': '1600 AMPHITHEATRE PARKWAY, MOUNTAIN VIEW, CA 94043',\n",
      " 'business_phone_no': '650-253-0000',\n",
      " 'ceo': 'Lawrence E. Page',\n",
      " 'cik': '0001652044',\n",
      " 'company_url': 'abc.xyz',\n",
      " 'employees': 72053,\n",
      " 'entity_legal_form': None,\n",
      " 'entity_status': None,\n",
      " 'hq_address1': '1600 AMPHITHEATRE PARKWAY',\n",
      " 'hq_address2': None,\n",
      " 'hq_address_city': 'MOUNTAIN VIEW',\n",
      " 'hq_address_postal_code': '94043',\n",
      " 'hq_country': 'United States of America',\n",
      " 'hq_state': 'California',\n",
      " 'id': 'com_dXOWOX',\n",
      " 'inc_country': 'United States of America',\n",
      " 'inc_state': 'Delaware',\n",
      " 'industry_category': None,\n",
      " 'industry_group': None,\n",
      " 'latest_filing_date': datetime.date(2018, 10, 26),\n",
      " 'legal_name': 'Alphabet Inc.',\n",
      " 'lei': None,\n",
      " 'long_description': 'Alphabet Inc., through its subsidiaries, provides online '\n",
      "                     'advertising services in the United States, the United '\n",
      "                     'Kingdom, and rest of the world. The company offers '\n",
      "                     'performance and brand advertising services. It operates '\n",
      "                     'through Google and Other Bets segments. The Google '\n",
      "                     'segment includes principal Internet products, such as '\n",
      "                     'Search, Ads, Commerce, Maps, YouTube, Google Cloud, '\n",
      "                     'Android, Chrome, and Google Play, as well as technical '\n",
      "                     'infrastructure and newer efforts, including Virtual '\n",
      "                     'Reality. This segment also sells digital contents, apps '\n",
      "                     'and cloud offerings, and hardware products. The Other '\n",
      "                     'Bets segment includes businesses, such as Access, '\n",
      "                     'Calico, CapitalG, GV, Nest, Verily, Waymo, X, and Google '\n",
      "                     'Fiber. Alphabet Inc. was founded in 1998 and is '\n",
      "                     'headquartered in Mountain View, California.',\n",
      " 'mailing_address': '1600 AMPHITHEATRE PARKWAY, MOUNTAIN VIEW, CA 94043',\n",
      " 'name': 'Alphabet Inc',\n",
      " 'sector': None,\n",
      " 'short_description': 'Alphabet, Inc. is a holding company, which engages in '\n",
      "                      'the business of acquisition and operation of different '\n",
      "                      'companies. It operates through the Google and Other '\n",
      "                      'Bets segments. The Google segment includes its main '\n",
      "                      'Internet products such as Search, Ads, Commerce, Maps, '\n",
      "                      'YouTube, Apps, Cloud, Android, Chrome, Google Play as '\n",
      "                      'well as hardware products, such as Chromecast, '\n",
      "                      'Chromebooks and Nexus. The Other Bets segment includes '\n",
      "                      'businesses such as Access or Google Fiber, Calico, '\n",
      "                      'Nest, Verily, GV, Google Capital, X, and other '\n",
      "                      'initiatives. The company was founded by Lawrence E. '\n",
      "                      'Page and Sergey Mikhaylovich Brin on October 2, 2015 '\n",
      "                      'and is headquartered in Mountain View, CA.',\n",
      " 'sic': '7370',\n",
      " 'standardized_active': True,\n",
      " 'stock_exchange': 'NasdaqGS',\n",
      " 'template': 'indu',\n",
      " 'ticker': 'GOOGL'}\n"
     ]
    }
   ],
   "source": [
    "try:\n",
    "    api_response = company_api.get_company(identifier)\n",
    "    pprint(api_response)\n",
    "except ApiException as e:\n",
    "    print(\"Exception when calling CompanyApi->get_company: %s\\n\" % e)"
   ]
  },
  {
   "cell_type": "code",
   "execution_count": null,
   "metadata": {},
   "outputs": [],
   "source": []
  }
 ],
 "metadata": {
  "kernelspec": {
   "display_name": "Python 3",
   "language": "python",
   "name": "python3"
  },
  "language_info": {
   "codemirror_mode": {
    "name": "ipython",
    "version": 3
   },
   "file_extension": ".py",
   "mimetype": "text/x-python",
   "name": "python",
   "nbconvert_exporter": "python",
   "pygments_lexer": "ipython3",
   "version": "3.6.5"
  }
 },
 "nbformat": 4,
 "nbformat_minor": 2
}
